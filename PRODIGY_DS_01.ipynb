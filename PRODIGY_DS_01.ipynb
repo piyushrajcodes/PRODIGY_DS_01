{
 "cells": [
  {
   "cell_type": "code",
   "execution_count": 1,
   "metadata": {},
   "outputs": [],
   "source": [
    "import pandas as pd\n",
    "import matplotlib.pyplot as plt\n",
    "import numpy as np\n",
    "import os"
   ]
  },
  {
   "cell_type": "code",
   "execution_count": 2,
   "metadata": {},
   "outputs": [],
   "source": [
    "os.chdir(\"C:\\\\Users\\\\Madhu Gupta\\\\Downloads\\\\Population\")"
   ]
  },
  {
   "cell_type": "code",
   "execution_count": 3,
   "metadata": {},
   "outputs": [],
   "source": [
    "data = pd.read_excel(\"Population_Dynamics.xls\")"
   ]
  },
  {
   "cell_type": "code",
   "execution_count": 4,
   "metadata": {},
   "outputs": [
    {
     "data": {
      "text/plain": [
       "(300, 11)"
      ]
     },
     "execution_count": 4,
     "metadata": {},
     "output_type": "execute_result"
    }
   ],
   "source": [
    "data.shape"
   ]
  },
  {
   "cell_type": "code",
   "execution_count": 5,
   "metadata": {},
   "outputs": [
    {
     "name": "stdout",
     "output_type": "stream",
     "text": [
      "<class 'pandas.core.frame.DataFrame'>\n",
      "RangeIndex: 300 entries, 0 to 299\n",
      "Data columns (total 11 columns):\n",
      " #   Column                              Non-Null Count  Dtype \n",
      "---  ------                              --------------  ----- \n",
      " 0   Unnamed: 0                          274 non-null    object\n",
      " 1   Population                          228 non-null    object\n",
      " 2   Unnamed: 2                          227 non-null    object\n",
      " 3   Average annual population growth %  227 non-null    object\n",
      " 4   Population age composition          229 non-null    object\n",
      " 5   Unnamed: 5                          229 non-null    object\n",
      " 6   Unnamed: 6                          229 non-null    object\n",
      " 7   Dependency ratio                    229 non-null    object\n",
      " 8   Unnamed: 8                          229 non-null    object\n",
      " 9   Crude death rate                    228 non-null    object\n",
      " 10  Crude birth rate                    228 non-null    object\n",
      "dtypes: object(11)\n",
      "memory usage: 25.9+ KB\n"
     ]
    }
   ],
   "source": [
    "data.info()"
   ]
  },
  {
   "cell_type": "code",
   "execution_count": 6,
   "metadata": {},
   "outputs": [
    {
     "name": "stdout",
     "output_type": "stream",
     "text": [
      "Index(['Unnamed: 0', 'Population', 'Unnamed: 2',\n",
      "       'Average annual population growth %', 'Population age composition',\n",
      "       'Unnamed: 5', 'Unnamed: 6', 'Dependency ratio', 'Unnamed: 8',\n",
      "       'Crude death rate', 'Crude birth rate'],\n",
      "      dtype='object')\n"
     ]
    }
   ],
   "source": [
    "data = pd.read_excel(\"Population_Dynamics.xls\")\n",
    "print(data.columns)"
   ]
  },
  {
   "cell_type": "code",
   "execution_count": 10,
   "metadata": {
    "scrolled": true
   },
   "outputs": [
    {
     "data": {
      "text/plain": [
       "Text(0.5, 1.0, 'Bar Chart For Population including Age wise distribution - 2022')"
      ]
     },
     "execution_count": 10,
     "metadata": {},
     "output_type": "execute_result"
    },
    {
     "data": {
      "image/png": "[encoded data removed]",
      "text/plain": [
       "<Figure size 720x432 with 1 Axes>"
      ]
     },
     "metadata": {
      "needs_background": "light"
     },
     "output_type": "display_data"
    }
   ],
   "source": [
    "import pandas as pd\n",
    "import matplotlib.pyplot as plt\n",
    "\n",
    "data = pd.read_excel(\"Population_Dynamics.xls\")\n",
    "\n",
    "\n",
    "#median age value\n",
    "data['Population age composition'] = pd.to_numeric(data['Population age composition'], errors='coerce')\n",
    "data['Unnamed: 5'] = pd.to_numeric(data['Unnamed: 5'], errors='coerce')\n",
    "data['Unnamed: 6'] = pd.to_numeric(data['Unnamed: 6'], errors='coerce')\n",
    "\n",
    "\n",
    "\n",
    "median_age_column5 = data['Population age composition'].median()\n",
    "median_age_column6 = data['Unnamed: 5'].median()\n",
    "median_age_column7 = data['Unnamed: 6'].median()\n",
    "\n",
    "data['Population age composition'].fillna(median_age_column5, inplace=True)\n",
    "data['Unnamed: 5'].fillna(median_age_column6, inplace=True)\n",
    "data['Unnamed: 6'].fillna(median_age_column7, inplace=True)\n",
    "\n",
    "\n",
    "ages = ['0 - 14', '15 - 64', ' 65 +']\n",
    "\n",
    "\n",
    "data_stacked = data[['Population age composition', 'Unnamed: 5', 'Unnamed: 6']].copy()\n",
    "data_stacked.columns = ages\n",
    "\n",
    "final_population = data_stacked.sum()\n",
    "\n",
    "plt.figure(figsize=(10, 6))\n",
    "plt.bar(ages, final_population)\n",
    "plt.xlabel('------- Age Category ------')\n",
    "plt.ylabel('-------Population ---------')\n",
    "plt.title('Bar Chart For Population including Age wise distribution - 2022')"
   ]
  },
  {
   "cell_type": "code",
   "execution_count": null,
   "metadata": {},
   "outputs": [],
   "source": [
    "print(data.columns.str.strip())"
   ]
  },
  {
   "cell_type": "code",
   "execution_count": null,
   "metadata": {},
   "outputs": [],
   "source": []
  }
 ],
 "metadata": {
  "kernelspec": {
   "display_name": "Python 3",
   "language": "python",
   "name": "python3"
  },
  "language_info": {
   "codemirror_mode": {
    "name": "ipython",
    "version": 3
   },
   "file_extension": ".py",
   "mimetype": "text/x-python",
   "name": "python",
   "nbconvert_exporter": "python",
   "pygments_lexer": "ipython3",
   "version": "3.8.5"
  }
 },
 "nbformat": 4,
 "nbformat_minor": 4
}
